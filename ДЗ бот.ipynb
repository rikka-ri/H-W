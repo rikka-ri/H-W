{
 "cells": [
  {
   "cell_type": "code",
   "execution_count": 1,
   "id": "9c395a1c",
   "metadata": {},
   "outputs": [
    {
     "name": "stdout",
     "output_type": "stream",
     "text": [
      "Requirement already satisfied: pytelegrambotapi in ./opt/anaconda3/lib/python3.9/site-packages (4.10.0)\n",
      "Requirement already satisfied: requests in ./opt/anaconda3/lib/python3.9/site-packages (from pytelegrambotapi) (2.28.1)\n",
      "Requirement already satisfied: certifi>=2017.4.17 in ./opt/anaconda3/lib/python3.9/site-packages (from requests->pytelegrambotapi) (2022.9.24)\n",
      "Requirement already satisfied: urllib3<1.27,>=1.21.1 in ./opt/anaconda3/lib/python3.9/site-packages (from requests->pytelegrambotapi) (1.26.11)\n",
      "Requirement already satisfied: charset-normalizer<3,>=2 in ./opt/anaconda3/lib/python3.9/site-packages (from requests->pytelegrambotapi) (2.0.4)\n",
      "Requirement already satisfied: idna<4,>=2.5 in ./opt/anaconda3/lib/python3.9/site-packages (from requests->pytelegrambotapi) (3.3)\n",
      "Note: you may need to restart the kernel to use updated packages.\n"
     ]
    }
   ],
   "source": [
    "pip install pytelegrambotapi"
   ]
  },
  {
   "cell_type": "code",
   "execution_count": 2,
   "id": "27a33b29",
   "metadata": {},
   "outputs": [],
   "source": [
    "import telebot"
   ]
  },
  {
   "cell_type": "code",
   "execution_count": 3,
   "id": "2172f281",
   "metadata": {},
   "outputs": [],
   "source": [
    "from telebot import types"
   ]
  },
  {
   "cell_type": "code",
   "execution_count": 4,
   "id": "3992d8dc",
   "metadata": {},
   "outputs": [],
   "source": [
    "bot = telebot.TeleBot(\"6263141789:AAGixUCsZfaIT2CXQfqZ6UOJn9X5hxBtZXQ\")"
   ]
  },
  {
   "cell_type": "code",
   "execution_count": 5,
   "id": "9e95b7df",
   "metadata": {},
   "outputs": [],
   "source": [
    "@bot.message_handler(commands=[\"start\"])\n",
    "def start(message, res=False):\n",
    "    bot.send_message(message.chat.id, \"Привет, любимый! Мы часто не знаем, что хотим поесть в тот или иной промежуток дня. Я решила упростить эту задачу. Давай посмотрим, как это работает :)\", \n",
    "       reply_markup=keyboard())"
   ]
  },
  {
   "cell_type": "code",
   "execution_count": 6,
   "id": "ef1c2363",
   "metadata": {},
   "outputs": [],
   "source": [
    "def keyboard():\n",
    "    markup = types.ReplyKeyboardMarkup(one_time_keyboard=True, resize_keyboard=True)\n",
    "    bt1 = types.KeyboardButton(\"Давай!✌\")\n",
    "    markup.add(bt1)\n",
    "    return markup"
   ]
  },
  {
   "cell_type": "code",
   "execution_count": 7,
   "id": "e7530c09",
   "metadata": {},
   "outputs": [],
   "source": [
    "text1 = \"Тогда осталось купить мне цветы и через час все будет готово!:)\"\n",
    "text2 = \"Тогда попробуй еще раз, пожалуйста.\"\n",
    "text3 = \"Отлично! Точно это блюдо на завтрак?\"\n",
    "text4 = \"Класс! Точно это блюдо на обед?\"\n",
    "text5 = \"Шикарно! Точно это блюдо на ужин?\""
   ]
  },
  {
   "cell_type": "code",
   "execution_count": 8,
   "id": "81fc8337",
   "metadata": {},
   "outputs": [],
   "source": [
    "@bot.message_handler(content_types=[\"text\"])\n",
    "def send_anytext(message):\n",
    "    chat_id = message.chat.id\n",
    "    if message.text == \"Давай!✌\":\n",
    "          bot.send_message(chat_id, \"Выбери прием пищи - завтрак, обед или ужин. Я предложу два варианта. Если тебе понравится этот бот, то сделаю полноценное меню с большим количеством опций :)\")\n",
    "    elif message.text == \"Завтрак\":\n",
    "        bot.send_message(message.chat.id, \"Сладкий или сытный?\")\n",
    "    elif message.text == \"Сладкий\":\n",
    "        bot.send_message(message.chat.id, \"Супер! Я предлагаю тебе кашу с ягодами или панкейки с джемом. Что больше хочется?\")\n",
    "    elif message.text == \"Каша с ягодами\":\n",
    "        photo = open(\"/Users/rikkari/Desktop/Новая папка 2/porridge.jpg\", \"rb\")\n",
    "        bot.send_animation(message.chat.id, photo)\n",
    "        answer = text3\n",
    "        bot.send_message(message.chat.id, answer)  \n",
    "    elif message.text == \"Да\":\n",
    "        bot.send_message(message.chat.id, text1)\n",
    "    elif message.text == \"Нет\":\n",
    "        bot.send_message(message.chat.id, text2)\n",
    "    elif message.text == \"Панкейки с джемом\":   \n",
    "        photo = open(\"/Users/rikkari/Desktop/Новая папка 2/pancakes.jpg\", \"rb\")  \n",
    "        bot.send_animation(message.chat.id, photo)\n",
    "        answer = text3\n",
    "        bot.send_message(message.chat.id, answer)  \n",
    "    elif message.text == \"Сытный\":\n",
    "        bot.send_message(message.chat.id, \"Я как раз тоже хотела сытный) Я предлагаю тебе английский завтрак или тосты\")\n",
    "    elif message.text == \"Английский завтрак\": \n",
    "        photo = open(\"/Users/rikkari/Desktop/Новая папка 2/engbreakfast.png\", \"rb\")\n",
    "        bot.send_animation(message.chat.id, photo)\n",
    "        answer = text3\n",
    "        bot.send_message(message.chat.id, answer) \n",
    "    elif message.text == \"Тосты\": \n",
    "        photo = open(\"/Users/rikkari/Desktop/Новая папка 2/toasts.png\", \"rb\")\n",
    "        bot.send_animation(message.chat.id, photo)\n",
    "        answer = text3\n",
    "        bot.send_message(message.chat.id, answer) \n",
    "            \n",
    "    elif message.text == \"Обед\":\n",
    "        bot.send_message(message.chat.id, \"Суп или второе?\")\n",
    "    elif message.text == \"Суп\":\n",
    "        bot.send_message(message.chat.id, \"Супер! Я предлагаю тебе сырный суп или сливочный суп с брокколи. Что хотелось бы сейчас?\")\n",
    "    elif message.text == \"Сливочный суп c брокколи\":\n",
    "        photo = open(\"/Users/rikkari/Desktop/Новая папка 2/soup.JPG\", \"rb\")\n",
    "        bot.send_animation(message.chat.id, photo)\n",
    "        answer = text4\n",
    "        bot.send_message(message.chat.id, answer) \n",
    "    elif message.text == \"Сырный суп\":\n",
    "        photo = open(\"/Users/rikkari/Desktop/Новая папка 2/cheese_soup.JPG\", \"rb\")\n",
    "        bot.send_animation(message.chat.id, photo)\n",
    "        answer = text4\n",
    "        bot.send_message(message.chat.id, answer) \n",
    "    elif message.text == \"Второе\":\n",
    "        bot.send_message(message.chat.id, \"Супер! Я предлагаю тебе гречку с тефтелями или рис с котлетами. Что хотелось бы сейчас?\")\n",
    "    elif message.text == \"Гречка с тефтелями\":\n",
    "        photo = open(\"/Users/rikkari/Desktop/Новая папка 2/grechka.jpeg\", \"rb\")\n",
    "        bot.send_animation(message.chat.id, photo)\n",
    "        answer = text4\n",
    "        bot.send_message(message.chat.id, answer) \n",
    "    elif message.text == \"Рис с котлетами\":\n",
    "        photo = open(\"/Users/rikkari/Desktop/Новая папка 2/rice.jpeg\", \"rb\")\n",
    "        bot.send_animation(message.chat.id, photo)\n",
    "        answer = text4\n",
    "        bot.send_message(message.chat.id, answer) \n",
    "        \n",
    "    elif message.text == \"Ужин\":\n",
    "        photo = open(\"/Users/rikkari/Desktop/Новая папка 2/plane.jpeg\", \"rb\")\n",
    "        bot.send_animation(message.chat.id, photo)\n",
    "        answer = \"Ты бы хотел рыбу или мясо?\"\n",
    "        bot.send_message(message.chat.id, answer)\n",
    "    elif message.text == \"Рыба\":\n",
    "        bot.send_message(message.chat.id, \"Супер! Я предлагаю тебе стейк или запеченую рыбу. Что больше хочется?\")\n",
    "    elif message.text == \"Стейк\":\n",
    "        photo = open(\"/Users/rikkari/Desktop/Новая папка 2/salmon.JPG\", \"rb\")\n",
    "        bot.send_animation(message.chat.id, photo)\n",
    "        answer = text5\n",
    "        bot.send_message(message.chat.id, answer) \n",
    "    elif message.text == \"Запеченая рыба\":\n",
    "        photo = open(\"/Users/rikkari/Desktop/Новая папка 2/baked_fish.JPG\", \"rb\")\n",
    "        bot.send_animation(message.chat.id, photo)\n",
    "        answer = text5\n",
    "        bot.send_message(message.chat.id, answer)   \n",
    "    elif message.text == \"Мясо\":\n",
    "        bot.send_message(message.chat.id, \"Курица или говядина?\")\n",
    "    elif message.text == \"Курица\":\n",
    "        bot.send_message(message.chat.id, \"Супер! Я предлагаю тебе фарфалле в соусе или карри. Что больше хочется?\")\n",
    "    elif message.text == \"Фарфалле в соусе\":\n",
    "        photo = open(\"/Users/rikkari/Desktop/Новая папка 2/farfalle.JPG\", \"rb\")\n",
    "        bot.send_animation(message.chat.id, photo)\n",
    "        answer = text5\n",
    "        bot.send_message(message.chat.id, answer) \n",
    "    elif message.text == \"Карри\":\n",
    "        photo = open(\"/Users/rikkari/Desktop/Новая папка 2/curry.JPG\", \"rb\")\n",
    "        bot.send_animation(message.chat.id, photo)\n",
    "        answer = text5\n",
    "        bot.send_message(message.chat.id, answer)   \n",
    "    elif message.text == \"Говядина\":\n",
    "        bot.send_message(message.chat.id, \"Супер! Я предлагаю тебе плов или спагетти болоньезе. Что больше хочется?\")\n",
    "    elif message.text == \"Плов\":\n",
    "        photo = open(\"/Users/rikkari/Desktop/Новая папка 2/pilaff.jpeg\", \"rb\")\n",
    "        bot.send_animation(message.chat.id, photo)\n",
    "        answer = text5\n",
    "        bot.send_message(message.chat.id, answer) \n",
    "    elif message.text == \"Спагетти болоньезе\":\n",
    "        photo = open(\"/Users/rikkari/Desktop/Новая папка 2/bolognese.JPG\", \"rb\")\n",
    "        bot.send_animation(message.chat.id, photo)\n",
    "        answer = text5\n",
    "        bot.send_message(message.chat.id, answer)\n",
    "    else:\n",
    "        bot.send_message(message.chat.id, \"Кажется, ты написал слово, которое я пока не знаю. Попробуй написать выражение полностью еще раз, используя именительный падеж.\")"
   ]
  },
  {
   "cell_type": "code",
   "execution_count": null,
   "id": "98e22dc8",
   "metadata": {},
   "outputs": [],
   "source": [
    "bot.polling(none_stop=True, interval=0)"
   ]
  },
  {
   "cell_type": "code",
   "execution_count": null,
   "id": "2a752972",
   "metadata": {},
   "outputs": [],
   "source": []
  }
 ],
 "metadata": {
  "kernelspec": {
   "display_name": "Python 3 (ipykernel)",
   "language": "python",
   "name": "python3"
  },
  "language_info": {
   "codemirror_mode": {
    "name": "ipython",
    "version": 3
   },
   "file_extension": ".py",
   "mimetype": "text/x-python",
   "name": "python",
   "nbconvert_exporter": "python",
   "pygments_lexer": "ipython3",
   "version": "3.9.13"
  }
 },
 "nbformat": 4,
 "nbformat_minor": 5
}
