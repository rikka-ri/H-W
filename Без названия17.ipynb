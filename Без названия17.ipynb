#!/usr/bin/env python
# coding: utf-8

# In[17]:


pip install pyTelegramBotAPI 


# In[18]:


import telebot


# In[19]:


bot = telebot.TeleBot("6263141789:AAGixUCsZfaIT2CXQfqZ6UOJn9X5hxBtZXQ")


# In[20]:


@bot.message_handler(commands=["start"])
def start(message, res=False):
  bot.send_message(message.chat.id, "Привет, любимый! Мы часто не знаем, что хотим поесть в тот или иной промежуток дня. Я решила упростить эту задачу. Давай посмотрим, как это работает :)")  


# In[21]:


@bot.message_handler()
def handle_text(message):
    if message.text == "Давай":
        bot.send_message(message.chat.id, "Выбери прием пищи - завтрак, обед или ужин. Я предложу два варианта. Если тебе понравится этот бот, то сделаю полноценное меню с большим количеством опций :)")
    elif message.text == "Завтрак":
        bot.send_message(message.chat.id, "Сладкий или сытный?")
    elif message.text == "Сладкий":
        bot.send_message(message.chat.id, "Супер! Я предлагаю тебе кашу с ягодами или панкейки с джемом. Что больше хочется?")
    elif message.text == "Каша с ягодами":
        photo = open("porridge.jpg", "rb")
        bot.send_message(call.message.chat.id, text="Выглядит аппетитно! Точно это блюдо на завтрак?", photo=photo, reply_markup=keyboard)
    elif message.text == "Да":
        bot.send_message(message.chat.id, "Тогда осталось купить мне цветы и через час все будет готово!:)")
    elif message.text == "Нет, панкейки с джемом":
        img = open("pancakes.JPG", "rb")
        bot.send_animation(message.chat.id, img)
        answer = "Отлично! Точно это блюдо на завтрак?"
        bot.send_message(message.chat.id, answer)
    elif message.text == "Да":
        bot.send_message(message.chat.id, "Тогда осталось купить мне цветы и через час все будет готово!:)")


# In[22]:


bot.polling(none_stop=True, interval=0)


# In[ ]:




